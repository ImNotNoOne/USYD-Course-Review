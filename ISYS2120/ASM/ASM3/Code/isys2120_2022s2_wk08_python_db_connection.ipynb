{
 "cells": [
  {
   "cell_type": "markdown",
   "metadata": {},
   "source": [
    "# ISYS2120: Data and Information Management\n",
    "## Tutorial Week 8: Database Application Development\n",
    "## Adapted from work Prepared by William Zhang and Hazel He in 2020\n",
    "\n",
    "\n",
    "Welcome to the Week 08 Lab section on Using a programming interface to interact with a database.\n",
    "\n",
    "## Exercise 1. Connecting to the database\n",
    "\n",
    "For larger data sets, the following would normally be executed as a stand alone Python program on a shell. First, you need to establish a connection to the postgresql database. Please edit the user and password values in code below to match your postgresql login.\n",
    "\n",
    "\n"
   ]
  },
  {
   "cell_type": "code",
   "execution_count": 1,
   "metadata": {},
   "outputs": [],
   "source": [
    "import psycopg2 #our driver\n",
    "\n",
    "# edit the values in the following command\n",
    "def connect():\n",
    "    user = 'y21s2i2120_abcd1234'\n",
    "    host = 'soitpw11d59.shared.sydney.edu.au'\n",
    "    password = 'your password here, as in email about this account'\n",
    "    try:\n",
    "        conn = psycopg2.connect(dbname=user, user=user, host=host, password=password)\n",
    "        with conn.cursor() as cur:\n",
    "            cur.execute(\"SET search_path TO unidb\")\n",
    "        return conn\n",
    "    except:\n",
    "        print (\"Connection failed\")"
   ]
  },
  {
   "cell_type": "markdown",
   "metadata": {},
   "source": [
    "## Exercise 2. Creating tables\n",
    "\n",
    "Our first actual exercise will be to add our tutor information. In this context, we will define a few restrictions:\n",
    "1. Tutors must be students\n",
    "1. Tutors must be assigned to a valid Unit of Study Offering\n",
    "1. Tutors may have different salary rates based on a salary code but each tutor has only one salary code\n",
    "\n",
    "Now try to create the following tables:\n",
    "\n",
    "a. Tutor's salary information (rate code, hourly rate, rate description etc.);\n",
    "\n",
    "b. Tutor information (derived from their existing student id and the rate code they are allocated);\n",
    "\n",
    "c. Tutors and their assigned unit of study offering."
   ]
  },
  {
   "cell_type": "markdown",
   "metadata": {},
   "source": [
    "*Hint: create helper functions before executing any commands"
   ]
  },
  {
   "cell_type": "code",
   "execution_count": 2,
   "metadata": {},
   "outputs": [],
   "source": [
    "# helper function use for queries that return rows \n",
    "def find(sql, args=None):\n",
    "    conn = connect()\n",
    "    with conn.cursor() as cur:\n",
    "        try:\n",
    "            cur.execute(sql, args)\n",
    "            rows = cur.fetchall()\n",
    "            print(cur.statusmessage) #message returned by last command\n",
    "            for row in rows:\n",
    "                print (row)\n",
    "        except Exception as e:\n",
    "            print(\"Query Failed with error {}\".format(e))\n",
    "            conn.rollback()\n",
    "        finally:\n",
    "            conn.close()"
   ]
  },
  {
   "cell_type": "code",
   "execution_count": 3,
   "metadata": {},
   "outputs": [],
   "source": [
    "# helper function use for queries that do not need to return rows \n",
    "def query(sql, args=None):\n",
    "    conn = connect()\n",
    "    with conn.cursor() as cur:\n",
    "        try:\n",
    "            cur.execute(sql, args)\n",
    "            conn.commit()\n",
    "            print(cur.statusmessage) #message returned by last command\n",
    "        except Exception as e:\n",
    "            print(\"Query Failed with error {}\".format(e))\n",
    "            conn.rollback()\n",
    "        finally:\n",
    "            conn.close()"
   ]
  },
  {
   "cell_type": "code",
   "execution_count": 2,
   "metadata": {},
   "outputs": [],
   "source": [
    "# TODO: replace the content of this cell with your Python + psycopg2 solution"
   ]
  },
  {
   "cell_type": "markdown",
   "metadata": {},
   "source": [
    "## Exercise 3. Select, Insert, Update and Delete"
   ]
  },
  {
   "cell_type": "markdown",
   "metadata": {},
   "source": [
    "a. Extract information about all UoS offerings available in semester 1."
   ]
  },
  {
   "cell_type": "code",
   "execution_count": null,
   "metadata": {},
   "outputs": [],
   "source": [
    "# TODO: replace the content of this cell with your Python + psycopg2 solution"
   ]
  },
  {
   "cell_type": "markdown",
   "metadata": {},
   "source": [
    "b. Insert the following information about a new tutor into the 3 tables created in exercise 2:\n",
    "\n",
    "uoscode ISYS2120 \n",
    "\n",
    "semester S1 \n",
    "\n",
    "year 2010 \n",
    "\n",
    "SID 305422153 \n",
    "\n",
    "name Sally Waters \n",
    "\n",
    "paycode A02"
   ]
  },
  {
   "cell_type": "code",
   "execution_count": null,
   "metadata": {},
   "outputs": [],
   "source": [
    "# TODO: replace the content of this cell with your Python + psycopg2 solution"
   ]
  },
  {
   "cell_type": "markdown",
   "metadata": {},
   "source": [
    "c. Update all tutors with A02 rateCode a 3% payrise"
   ]
  },
  {
   "cell_type": "code",
   "execution_count": 2,
   "metadata": {
    "collapsed": true
   },
   "outputs": [],
   "source": [
    "# TODO: replace the content of this cell with your Python + psycopg2 solution"
   ]
  },
  {
   "cell_type": "markdown",
   "metadata": {},
   "source": [
    "d. It's 2022 and we would like to save space so we are removing the info of tutors who have not tutored a subject since 2015 from the StudentTutors and SubjectTutors tables."
   ]
  },
  {
   "cell_type": "code",
   "execution_count": 1,
   "metadata": {
    "collapsed": true
   },
   "outputs": [],
   "source": [
    "# TODO: replace the content of this cell with your Python + psycopg2 solution"
   ]
  }
 ],
 "metadata": {
  "kernelspec": {
   "display_name": "Python 3 (ipykernel)",
   "language": "python",
   "name": "python3"
  },
  "language_info": {
   "codemirror_mode": {
    "name": "ipython",
    "version": 3
   },
   "file_extension": ".py",
   "mimetype": "text/x-python",
   "name": "python",
   "nbconvert_exporter": "python",
   "pygments_lexer": "ipython3",
   "version": "3.8.10"
  }
 },
 "nbformat": 4,
 "nbformat_minor": 2
}
